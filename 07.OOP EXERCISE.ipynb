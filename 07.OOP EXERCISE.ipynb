{
 "cells": [
  {
   "cell_type": "markdown",
   "metadata": {},
   "source": [
    "# example 1:"
   ]
  },
  {
   "cell_type": "code",
   "execution_count": 1,
   "metadata": {},
   "outputs": [],
   "source": [
    "class TestClass:\n",
    "    'This is a test class'\n",
    "    info = 'I store name as formation'\n",
    "    \n",
    "    def __init__(self, name):\n",
    "        self.name=name\n",
    "    \n",
    "    def get_name(self):\n",
    "        return self.name"
   ]
  },
  {
   "cell_type": "code",
   "execution_count": 2,
   "metadata": {},
   "outputs": [
    {
     "data": {
      "text/plain": [
       "__main__.TestClass"
      ]
     },
     "execution_count": 2,
     "metadata": {},
     "output_type": "execute_result"
    }
   ],
   "source": [
    "TestClass"
   ]
  },
  {
   "cell_type": "code",
   "execution_count": 3,
   "metadata": {},
   "outputs": [],
   "source": [
    "test1=TestClass('SAJIB HALDER')"
   ]
  },
  {
   "cell_type": "code",
   "execution_count": 4,
   "metadata": {},
   "outputs": [
    {
     "data": {
      "text/plain": [
       "'SAJIB HALDER'"
      ]
     },
     "execution_count": 4,
     "metadata": {},
     "output_type": "execute_result"
    }
   ],
   "source": [
    "test1.get_name()"
   ]
  },
  {
   "cell_type": "code",
   "execution_count": 5,
   "metadata": {},
   "outputs": [],
   "source": [
    "test2=TestClass('The Superstar getting Rockstar day by day')"
   ]
  },
  {
   "cell_type": "code",
   "execution_count": 6,
   "metadata": {},
   "outputs": [
    {
     "data": {
      "text/plain": [
       "'The Superstar getting Rockstar day by day'"
      ]
     },
     "execution_count": 6,
     "metadata": {},
     "output_type": "execute_result"
    }
   ],
   "source": [
    "TestClass.get_name(test2)"
   ]
  },
  {
   "cell_type": "code",
   "execution_count": 7,
   "metadata": {},
   "outputs": [
    {
     "data": {
      "text/plain": [
       "'The Superstar getting Rockstar day by day'"
      ]
     },
     "execution_count": 7,
     "metadata": {},
     "output_type": "execute_result"
    }
   ],
   "source": [
    "test2.get_name()"
   ]
  },
  {
   "cell_type": "code",
   "execution_count": 8,
   "metadata": {},
   "outputs": [
    {
     "data": {
      "text/plain": [
       "'I store name as formation'"
      ]
     },
     "execution_count": 8,
     "metadata": {},
     "output_type": "execute_result"
    }
   ],
   "source": [
    "test2.info"
   ]
  },
  {
   "cell_type": "code",
   "execution_count": 9,
   "metadata": {},
   "outputs": [
    {
     "data": {
      "text/plain": [
       "'This is a test class'"
      ]
     },
     "execution_count": 9,
     "metadata": {},
     "output_type": "execute_result"
    }
   ],
   "source": [
    "test2.__doc__"
   ]
  },
  {
   "cell_type": "code",
   "execution_count": 10,
   "metadata": {},
   "outputs": [],
   "source": [
    "from datetime import datetime"
   ]
  },
  {
   "cell_type": "code",
   "execution_count": 25,
   "metadata": {},
   "outputs": [],
   "source": [
    "#Create a class that takes 1st and last name & DOB as arguments\n",
    "\n",
    "class PersonInfo:\n",
    "    'Class to create persons\\'s profile'\n",
    "   \n",
    "    print_history= 0\n",
    "    \n",
    "    def __init__(self, name, lname, dob):\n",
    "        'Get first and last name and dob in mmddyyyy format'\n",
    "        self.name=name\n",
    "        self.lname = lname\n",
    "        self.dob =dob\n",
    "    \n",
    "    def fullname(self):\n",
    "        'Create full name by adding frist name and last name'\n",
    "        return self.name + ' ' + self.lname\n",
    "\n",
    "    def age(self):\n",
    "        'Get the current age'\n",
    "        current_year = datetime.today().year\n",
    "        birth_year = datetime.strptime(self.dob, '%m%d%Y').year\n",
    "        return current_year - birth_year\n",
    "    \n",
    "    def generate_email_id(self):\n",
    "        'Generate email id in format of fname.lastname@company.co'\n",
    "        return self.name.lower() + '.' + self.lname.lower() + '00' + '@company.com'\n",
    "    \n",
    "    def employee_id(self):\n",
    "        return self.name+self.dob\n",
    "    \n",
    "    def print_profile(self):\n",
    "        print('Complete Profile of '+self.fullname())\n",
    "        print('='*43+'\\n')\n",
    "        print('{:10s} | {:20s}'.format('Employee ID', self.employee_id()))\n",
    "        print('{:10s} | {:20s}'.format('-'*10, '-'*20))\n",
    "        print('{:10s} | {:20s}'.format('Full Name', self.fullname()))\n",
    "        print('{:10s} | {:20s}'.format('-'*10, '-'*20))\n",
    "        print('{:10s} | {:20s}'.format('Email ID', self.generate_email_id()))\n",
    "        print('{:10s} | {:20s}'.format('-'*10, '-'*20))\n",
    "        print('{:10s} | {:20s}'.format('Age', str(self.age())))\n",
    "        self.print_history +=1\n"
   ]
  },
  {
   "cell_type": "code",
   "execution_count": 26,
   "metadata": {},
   "outputs": [],
   "source": [
    "me=PersonInfo('Sajib', 'Halder', '10071989')"
   ]
  },
  {
   "cell_type": "code",
   "execution_count": 27,
   "metadata": {},
   "outputs": [
    {
     "data": {
      "text/plain": [
       "0"
      ]
     },
     "execution_count": 27,
     "metadata": {},
     "output_type": "execute_result"
    }
   ],
   "source": [
    "me.print_history"
   ]
  },
  {
   "cell_type": "code",
   "execution_count": 28,
   "metadata": {},
   "outputs": [
    {
     "data": {
      "text/plain": [
       "'Sajib Halder'"
      ]
     },
     "execution_count": 28,
     "metadata": {},
     "output_type": "execute_result"
    }
   ],
   "source": [
    "me.fullname()"
   ]
  },
  {
   "cell_type": "code",
   "execution_count": 29,
   "metadata": {},
   "outputs": [
    {
     "data": {
      "text/plain": [
       "'sajib.halder00@company.com'"
      ]
     },
     "execution_count": 29,
     "metadata": {},
     "output_type": "execute_result"
    }
   ],
   "source": [
    "me.generate_email_id()"
   ]
  },
  {
   "cell_type": "code",
   "execution_count": 30,
   "metadata": {},
   "outputs": [
    {
     "data": {
      "text/plain": [
       "30"
      ]
     },
     "execution_count": 30,
     "metadata": {},
     "output_type": "execute_result"
    }
   ],
   "source": [
    "me.age()"
   ]
  },
  {
   "cell_type": "code",
   "execution_count": 31,
   "metadata": {},
   "outputs": [
    {
     "data": {
      "text/plain": [
       "'Sajib10071989'"
      ]
     },
     "execution_count": 31,
     "metadata": {},
     "output_type": "execute_result"
    }
   ],
   "source": [
    "me.employee_id()"
   ]
  },
  {
   "cell_type": "code",
   "execution_count": 32,
   "metadata": {},
   "outputs": [
    {
     "name": "stdout",
     "output_type": "stream",
     "text": [
      "Complete Profile of Sajib Halder\n",
      "===========================================\n",
      "\n",
      "Employee ID | Sajib10071989       \n",
      "---------- | --------------------\n",
      "Full Name  | Sajib Halder        \n",
      "---------- | --------------------\n",
      "Email ID   | sajib.halder00@company.com\n",
      "---------- | --------------------\n",
      "Age        | 30                  \n"
     ]
    }
   ],
   "source": [
    "PersonInfo.print_profile(me)"
   ]
  },
  {
   "cell_type": "code",
   "execution_count": 33,
   "metadata": {},
   "outputs": [
    {
     "data": {
      "text/plain": [
       "1"
      ]
     },
     "execution_count": 33,
     "metadata": {},
     "output_type": "execute_result"
    }
   ],
   "source": [
    "me.print_history"
   ]
  },
  {
   "cell_type": "markdown",
   "metadata": {},
   "source": [
    "### Class Challenge\n",
    "\n",
    "1. Create a call called BankAccount\n",
    "2. Class should be initiated with following names:\n",
    "\n",
    "   2.1. Full Name\n",
    "\n",
    "   2.2. PAN\n",
    "\n",
    "   2.3. Balance - 1000 (Default value. Ensure this value is never negative)\n",
    "\n",
    "\n",
    "3. Create a method to check current balance\n",
    "4. Create a method to add money (Balance must be updated. Create log for transactions.)\n",
    "5. Create a method to withdraw money (Balance must be updated. Cant withdraw more than balance. Create log for transactions.)\n",
    "6. Create a method to get last 5 transactions"
   ]
  },
  {
   "cell_type": "code",
   "execution_count": 34,
   "metadata": {},
   "outputs": [],
   "source": [
    "class BankAccount:\n",
    "    'class Banking transactions to check blance, withdraw Money, deposit money'\n",
    "    info='store acc details and trans history'\n",
    "    \n",
    "    global traList\n",
    "    traList=[]\n",
    "    def __init__(self,fullname, pan, balance):\n",
    "        if (balance < 1000):\n",
    "            print('Account opening balance cannot be less than 1000') \n",
    "        else:\n",
    "            self.fullname=fullname\n",
    "            self.pan=pan\n",
    "            self.balance=balance\n",
    "            traList.append((\"Your account credited with amount {0}. Your account balance is:{1} \".format(balance, str(self.balance))))\n",
    "    def checkBalance(self):\n",
    "        'Check current balance'\n",
    "        return self.balance\n",
    "    def addMoney(self,amount):\n",
    "        'add amount in account'\n",
    "        self.balance+=amount\n",
    "        traList.append((\"Your account credited with amount {0}. Your account balance is:{1} \".format(amount, str(self.balance))))\n",
    "        return self.balance\n",
    "    def withdrawMoney(self,amount):\n",
    "        'withdraw money'\n",
    "        if (self.balance - 1000 < amount):\n",
    "            return \"Insufficient Balnace, Please maintain minium balance in your account. Please enter {} or less than that\".format(self.balance -1000)\n",
    "        else:\n",
    "            traList.append((\"Your account debited with amount {0}. Your account balance is:{1} \".format(amount, str(self.balance - amount))))\n",
    "            self.balance-=amount\n",
    "        return self.balance\n",
    "    def lastfivetrans(self):\n",
    "        'check for last five trans'\n",
    "        if (len(traList) == 0):\n",
    "            print('No Transaction found')\n",
    "        else:\n",
    "            \n",
    "            return traList[-5:]\n"
   ]
  },
  {
   "cell_type": "code",
   "execution_count": 35,
   "metadata": {},
   "outputs": [],
   "source": [
    "my_account = BankAccount('SAJIB HALDER', 'BBGTHF123KH', 1000)"
   ]
  },
  {
   "cell_type": "code",
   "execution_count": 36,
   "metadata": {},
   "outputs": [
    {
     "data": {
      "text/plain": [
       "1000"
      ]
     },
     "execution_count": 36,
     "metadata": {},
     "output_type": "execute_result"
    }
   ],
   "source": [
    "my_account.checkBalance()"
   ]
  },
  {
   "cell_type": "code",
   "execution_count": 37,
   "metadata": {},
   "outputs": [
    {
     "data": {
      "text/plain": [
       "1000"
      ]
     },
     "execution_count": 37,
     "metadata": {},
     "output_type": "execute_result"
    }
   ],
   "source": [
    "my_account.addMoney(0)"
   ]
  },
  {
   "cell_type": "code",
   "execution_count": 38,
   "metadata": {},
   "outputs": [
    {
     "data": {
      "text/plain": [
       "'Insufficient Balnace, Please maintain minium balance in your account. Please enter 0 or less than that'"
      ]
     },
     "execution_count": 38,
     "metadata": {},
     "output_type": "execute_result"
    }
   ],
   "source": [
    "my_account.withdrawMoney(2000)"
   ]
  },
  {
   "cell_type": "code",
   "execution_count": 39,
   "metadata": {},
   "outputs": [
    {
     "data": {
      "text/plain": [
       "2000"
      ]
     },
     "execution_count": 39,
     "metadata": {},
     "output_type": "execute_result"
    }
   ],
   "source": [
    "my_account.addMoney(1000)"
   ]
  },
  {
   "cell_type": "code",
   "execution_count": 40,
   "metadata": {},
   "outputs": [
    {
     "data": {
      "text/plain": [
       "2500"
      ]
     },
     "execution_count": 40,
     "metadata": {},
     "output_type": "execute_result"
    }
   ],
   "source": [
    "my_account.addMoney(500)"
   ]
  },
  {
   "cell_type": "code",
   "execution_count": 41,
   "metadata": {},
   "outputs": [
    {
     "data": {
      "text/plain": [
       "3000"
      ]
     },
     "execution_count": 41,
     "metadata": {},
     "output_type": "execute_result"
    }
   ],
   "source": [
    "my_account.addMoney(500)"
   ]
  },
  {
   "cell_type": "code",
   "execution_count": 42,
   "metadata": {},
   "outputs": [
    {
     "data": {
      "text/plain": [
       "['Your account credited with amount 1000. Your account balance is:1000 ',\n",
       " 'Your account credited with amount 0. Your account balance is:1000 ',\n",
       " 'Your account credited with amount 1000. Your account balance is:2000 ',\n",
       " 'Your account credited with amount 500. Your account balance is:2500 ',\n",
       " 'Your account credited with amount 500. Your account balance is:3000 ']"
      ]
     },
     "execution_count": 42,
     "metadata": {},
     "output_type": "execute_result"
    }
   ],
   "source": [
    "my_account.lastfivetrans()"
   ]
  },
  {
   "cell_type": "markdown",
   "metadata": {},
   "source": [
    "### Challenge  - Tax Calculator\n",
    "\n",
    "* Create a class TaxCalculator which takes annual CTC as input\n",
    "* Create a method to get the individual components of the annual CTC as follows\n",
    "    * Basic = 40% of CTC\n",
    "    * HRA = 30% of CTC\n",
    "    * Conveyance Allowance = 2% of CTC\n",
    "    * Medical Allowance = 2% of CTC\n",
    "    * Statutory Bonus = 1% of CTC\n",
    "    * Other Allowance = 25% of CTC\n",
    "* Create a method to accept investments and rent paid (Check for maximum limits in investments)\n",
    "* Create a method to calulate the net taxable income\n",
    "* Create a method to calculate the total tax after deductions and investments\n",
    "* Deductions in salary:\n",
    "    * Annual Professional Tax - 2400\n",
    "    * Annual Provident Fund - 21600\n",
    "* Standard deduction for FY 2018-19 - 40000\n",
    "    \n",
    "**References:**\n",
    "\n",
    "1. https://cleartax.in/s/income-tax-basics-for-beginners\n",
    "2. https://cleartax.in/paytax/TaxCalculator\n",
    "\n",
    "**Note:**\n",
    "\n",
    "* This is a real world project\n",
    "* Handle Exceptions and have proper validation conditions\n",
    "* Use proper docstrings (https://sphinxcontrib-napoleon.readthedocs.io/en/latest/example_numpy.html)\n",
    "* Understand the use of configuration files (Optional) for standard deduction and exemptions limit based on FY"
   ]
  },
  {
   "cell_type": "code",
   "execution_count": 44,
   "metadata": {},
   "outputs": [],
   "source": [
    "class TaxCalc:\n",
    "    def __init__(self, fullname, pan, dob):\n",
    "        self.fullname = fullname\n",
    "        self.pan = pan\n",
    "        self.dob = dob\n",
    "        from datetime import datetime as datetime\n",
    "        from dateutil.relativedelta import relativedelta\n",
    "        cutoffdate = datetime.strptime(\"30032019\", \"%d%m%Y\")\n",
    "        dobdate = datetime.strptime(self.dob, \"%d%m%Y\")\n",
    "        self.fiscalage = relativedelta(cutoffdate, dobdate).years\n",
    "        self.agecat = \"Normal\" if int(self.fiscalage) < 60 else \"Senior\" if int(self.fiscalage) < 80 else \"Super Senior\"\n",
    "    def returndata(self):\n",
    "        return \"Name is: \" + str(self.fullname) + \". Age group is: \" + str(self.agecat) + \".\"\n",
    "    def ctccheck(self, ctc):\n",
    "        self.basic = 0.4*ctc\n",
    "        self.hra = 0.3*ctc\n",
    "        self.conv = 0.02*ctc\n",
    "        self.med = 0.02*ctc\n",
    "        self.bonus = 0.1*ctc\n",
    "        self.other = 0.25*ctc\n",
    "        self.salinc = ctc\n",
    "        return \"Sal income is: \" + str(self.salinc) + \". HRA is: \" + str(self.hra) + \".\"\n",
    "    def othinccheck(self, houseinc, capgain, otherinc):\n",
    "        self.combotherinc = houseinc + capgain + otherinc\n",
    "        self.combinc = self.salinc + self.combotherinc\n",
    "        self.effinc = self.combinc - 2400 - 21600 - 40000\n",
    "        return \"Oth income is: \" + str(self.combotherinc) + \". Combined income is: \" + str(self.combinc) + \".\"\n",
    "    def investcheck(self, cluster_80c, lone_80d, lone_80e, lone_80ee, cluster_80g):\n",
    "        self.cluster_80c_ded = min(cluster_80c, 150000)\n",
    "        self.lone_80d_ded = min(lone_80d, 25000) if self.agecat == \"Normal\" else min(lone_80d, 30000)\n",
    "        self.lone_80e_ded = min(lone_80e, self.effinc)\n",
    "        self.lone_80ee_ded = min(lone_80ee, 50000)\n",
    "        self.cluster_80g_ded = min(cluster_80g, 0.1*self.combinc)\n",
    "        self.investded = self.cluster_80c_ded + self.lone_80d_ded + self.lone_80e_ded + self.lone_80ee_ded + self.cluster_80g_ded\n",
    "        return \"Deduction under 80c is: \" + str(self.cluster_80c_ded) + \". Combined investment deduction is: \" + str(self.investded) + \".\"\n",
    "    def rentcheck(self, rent_80gg):\n",
    "        self.rent_80gg_ded = min(self.hra, self.basic*0.5, max(0, rent_80gg - (self.basic*0.1)))\n",
    "        return \"Deduction from rent is: \" + str(self.rent_80gg_ded) + \".\"\n",
    "    def dedcheck(self):\n",
    "        self.deduct = self.investded + self.rent_80gg_ded\n",
    "        return \"Final deduction is: \" + str(self.deduct) + \".\"\n",
    "    def taxinc(self):\n",
    "        self.nettaxinc = max(self.effinc - self.deduct, 0)\n",
    "        return \"Net taxable income is: \" + str(self.nettaxinc) + \".\"\n",
    "    def taxpay(self):\n",
    "        if self.agecat == \"Normal\":\n",
    "            self.finaltax = 1.04*((112500 + 0.3*(self.nettaxinc - 1000000)) if self.nettaxinc >= 1000001 else (12500 + 0.2*(self.nettaxinc - 500000)) if self.nettaxinc >= 500001 else 0.05*(self.nettaxinc - 250000) if self.nettaxinc >= 250001 else 0)\n",
    "        elif self.agecat == \"Senior\":\n",
    "            self.finaltax = 1.04*((110000 + 0.3*(self.nettaxinc - 1000000)) if self.nettaxinc >= 1000001 else (10000 + 0.2*(self.nettaxinc - 500000)) if self.nettaxinc >= 500001 else 0.05*(self.nettaxinc - 300000) if self.nettaxinc >= 300001 else 0)\n",
    "        else:\n",
    "            self.finaltax = 1.04*((100000 + 0.3*(self.nettaxinc - 1000000)) if self.nettaxinc >= 1000001 else 0.2*(self.nettaxinc - 500000) if self.nettaxinc >= 500001 else 0)\n",
    "        return \"Final tax payable is: \" + str(self.finaltax) + \".\""
   ]
  },
  {
   "cell_type": "code",
   "execution_count": 57,
   "metadata": {},
   "outputs": [],
   "source": [
    "my_account = TaxCalc('SAJIB HALDER', 'BBGTHF123KH', '10071989')"
   ]
  },
  {
   "cell_type": "code",
   "execution_count": 58,
   "metadata": {},
   "outputs": [
    {
     "data": {
      "text/plain": [
       "'Name is: SAJIB HALDER. Age group is: Normal.'"
      ]
     },
     "execution_count": 58,
     "metadata": {},
     "output_type": "execute_result"
    }
   ],
   "source": [
    "my_account.returndata()"
   ]
  },
  {
   "cell_type": "code",
   "execution_count": 59,
   "metadata": {},
   "outputs": [
    {
     "data": {
      "text/plain": [
       "'Sal income is: 600000. HRA is: 180000.0.'"
      ]
     },
     "execution_count": 59,
     "metadata": {},
     "output_type": "execute_result"
    }
   ],
   "source": [
    "my_account.ctccheck(600000)"
   ]
  },
  {
   "cell_type": "code",
   "execution_count": 60,
   "metadata": {},
   "outputs": [
    {
     "data": {
      "text/plain": [
       "'Oth income is: 100000. Combined income is: 700000.'"
      ]
     },
     "execution_count": 60,
     "metadata": {},
     "output_type": "execute_result"
    }
   ],
   "source": [
    "my_account.othinccheck(40000,30000,30000)"
   ]
  },
  {
   "cell_type": "code",
   "execution_count": 61,
   "metadata": {},
   "outputs": [
    {
     "data": {
      "text/plain": [
       "'Deduction under 80c is: 150000. Combined investment deduction is: 375000.'"
      ]
     },
     "execution_count": 61,
     "metadata": {},
     "output_type": "execute_result"
    }
   ],
   "source": [
    "my_account.investcheck(200000,35000,80000,50000,70000)"
   ]
  },
  {
   "cell_type": "code",
   "execution_count": 62,
   "metadata": {},
   "outputs": [
    {
     "data": {
      "text/plain": [
       "'Deduction from rent is: 6000.0.'"
      ]
     },
     "execution_count": 62,
     "metadata": {},
     "output_type": "execute_result"
    }
   ],
   "source": [
    "my_account.rentcheck(30000)"
   ]
  },
  {
   "cell_type": "code",
   "execution_count": 63,
   "metadata": {},
   "outputs": [
    {
     "data": {
      "text/plain": [
       "'Final deduction is: 381000.0.'"
      ]
     },
     "execution_count": 63,
     "metadata": {},
     "output_type": "execute_result"
    }
   ],
   "source": [
    "my_account.dedcheck()"
   ]
  },
  {
   "cell_type": "code",
   "execution_count": 64,
   "metadata": {},
   "outputs": [
    {
     "data": {
      "text/plain": [
       "'Net taxable income is: 255000.0.'"
      ]
     },
     "execution_count": 64,
     "metadata": {},
     "output_type": "execute_result"
    }
   ],
   "source": [
    "my_account.taxinc()"
   ]
  },
  {
   "cell_type": "code",
   "execution_count": 65,
   "metadata": {},
   "outputs": [
    {
     "data": {
      "text/plain": [
       "'Final tax payable is: 260.0.'"
      ]
     },
     "execution_count": 65,
     "metadata": {},
     "output_type": "execute_result"
    }
   ],
   "source": [
    "my_account.taxpay()"
   ]
  },
  {
   "cell_type": "markdown",
   "metadata": {},
   "source": [
    "# Calculate Net payable tax:"
   ]
  },
  {
   "cell_type": "markdown",
   "metadata": {},
   "source": [
    "# Question:\n",
    "1...Calculate the net tax payable by employees from the ctc.json data file \n",
    "2...Is there a correlation between graduation percentage and current CTC? (Get pearson correlation score - Use GOOGLE / STACK OVERFLOW) \n",
    "3...Is there a correlation between age and current CTC? (Get pearson correlation score - Use GOOGLE / STACK OVERFLOW)  \n",
    "4...Create 4 age groups and find mean CTC & Tax per group. Groups are as follows: 20-25 26-34 35-39 40 and above \n",
    "5...Create 4 groups of graduation percentage and find mean CTC & Tax for each percentage group within each age group  \n",
    "6...Plot pie chart of age groups Plot bar chart of graduation percentage groups Plot a histogram / distplot of Tax  \n",
    "7...Generate a scatterplot of age vs income Export the final dataframe to a csv.  "
   ]
  },
  {
   "cell_type": "code",
   "execution_count": 66,
   "metadata": {},
   "outputs": [],
   "source": [
    "import pandas as pd\n",
    "\n",
    "#read data from Json file.\n",
    "ctc=pd.read_json('ctc.json')"
   ]
  },
  {
   "cell_type": "code",
   "execution_count": 67,
   "metadata": {},
   "outputs": [
    {
     "data": {
      "text/html": [
       "<div>\n",
       "<style scoped>\n",
       "    .dataframe tbody tr th:only-of-type {\n",
       "        vertical-align: middle;\n",
       "    }\n",
       "\n",
       "    .dataframe tbody tr th {\n",
       "        vertical-align: top;\n",
       "    }\n",
       "\n",
       "    .dataframe thead th {\n",
       "        text-align: right;\n",
       "    }\n",
       "</style>\n",
       "<table border=\"1\" class=\"dataframe\">\n",
       "  <thead>\n",
       "    <tr style=\"text-align: right;\">\n",
       "      <th></th>\n",
       "      <th>age</th>\n",
       "      <th>basic</th>\n",
       "      <th>conveyance_allowance</th>\n",
       "      <th>employee_id</th>\n",
       "      <th>grad_pcnt</th>\n",
       "      <th>hra</th>\n",
       "      <th>medical_allowance</th>\n",
       "      <th>other_allowance</th>\n",
       "      <th>pf</th>\n",
       "      <th>pt</th>\n",
       "      <th>statutory_bonus</th>\n",
       "      <th>total_ctc</th>\n",
       "    </tr>\n",
       "  </thead>\n",
       "  <tbody>\n",
       "    <tr>\n",
       "      <th>0</th>\n",
       "      <td>30</td>\n",
       "      <td>105801.6</td>\n",
       "      <td>5290.08</td>\n",
       "      <td>emp_01</td>\n",
       "      <td>78</td>\n",
       "      <td>79351.2</td>\n",
       "      <td>5290.08</td>\n",
       "      <td>66126.00</td>\n",
       "      <td>1800</td>\n",
       "      <td>200</td>\n",
       "      <td>2645.04</td>\n",
       "      <td>264504</td>\n",
       "    </tr>\n",
       "    <tr>\n",
       "      <th>1</th>\n",
       "      <td>25</td>\n",
       "      <td>786142.8</td>\n",
       "      <td>39307.14</td>\n",
       "      <td>emp_02</td>\n",
       "      <td>84</td>\n",
       "      <td>589607.1</td>\n",
       "      <td>39307.14</td>\n",
       "      <td>491339.25</td>\n",
       "      <td>1800</td>\n",
       "      <td>200</td>\n",
       "      <td>19653.57</td>\n",
       "      <td>1965357</td>\n",
       "    </tr>\n",
       "    <tr>\n",
       "      <th>2</th>\n",
       "      <td>34</td>\n",
       "      <td>770705.2</td>\n",
       "      <td>38535.26</td>\n",
       "      <td>emp_03</td>\n",
       "      <td>77</td>\n",
       "      <td>578028.9</td>\n",
       "      <td>38535.26</td>\n",
       "      <td>481690.75</td>\n",
       "      <td>1800</td>\n",
       "      <td>200</td>\n",
       "      <td>19267.63</td>\n",
       "      <td>1926763</td>\n",
       "    </tr>\n",
       "    <tr>\n",
       "      <th>3</th>\n",
       "      <td>40</td>\n",
       "      <td>560638.0</td>\n",
       "      <td>28031.90</td>\n",
       "      <td>emp_04</td>\n",
       "      <td>71</td>\n",
       "      <td>420478.5</td>\n",
       "      <td>28031.90</td>\n",
       "      <td>350398.75</td>\n",
       "      <td>1800</td>\n",
       "      <td>200</td>\n",
       "      <td>14015.95</td>\n",
       "      <td>1401595</td>\n",
       "    </tr>\n",
       "    <tr>\n",
       "      <th>4</th>\n",
       "      <td>32</td>\n",
       "      <td>267130.8</td>\n",
       "      <td>13356.54</td>\n",
       "      <td>emp_05</td>\n",
       "      <td>89</td>\n",
       "      <td>200348.1</td>\n",
       "      <td>13356.54</td>\n",
       "      <td>166956.75</td>\n",
       "      <td>1800</td>\n",
       "      <td>200</td>\n",
       "      <td>6678.27</td>\n",
       "      <td>667827</td>\n",
       "    </tr>\n",
       "    <tr>\n",
       "      <th>5</th>\n",
       "      <td>36</td>\n",
       "      <td>83285.2</td>\n",
       "      <td>4164.26</td>\n",
       "      <td>emp_06</td>\n",
       "      <td>65</td>\n",
       "      <td>62463.9</td>\n",
       "      <td>4164.26</td>\n",
       "      <td>52053.25</td>\n",
       "      <td>1800</td>\n",
       "      <td>200</td>\n",
       "      <td>2082.13</td>\n",
       "      <td>208213</td>\n",
       "    </tr>\n",
       "    <tr>\n",
       "      <th>6</th>\n",
       "      <td>29</td>\n",
       "      <td>533603.2</td>\n",
       "      <td>26680.16</td>\n",
       "      <td>emp_07</td>\n",
       "      <td>91</td>\n",
       "      <td>400202.4</td>\n",
       "      <td>26680.16</td>\n",
       "      <td>333502.00</td>\n",
       "      <td>1800</td>\n",
       "      <td>200</td>\n",
       "      <td>13340.08</td>\n",
       "      <td>1334008</td>\n",
       "    </tr>\n",
       "    <tr>\n",
       "      <th>7</th>\n",
       "      <td>28</td>\n",
       "      <td>321205.6</td>\n",
       "      <td>16060.28</td>\n",
       "      <td>emp_08</td>\n",
       "      <td>80</td>\n",
       "      <td>240904.2</td>\n",
       "      <td>16060.28</td>\n",
       "      <td>200753.50</td>\n",
       "      <td>1800</td>\n",
       "      <td>200</td>\n",
       "      <td>8030.14</td>\n",
       "      <td>803014</td>\n",
       "    </tr>\n",
       "    <tr>\n",
       "      <th>8</th>\n",
       "      <td>20</td>\n",
       "      <td>102121.6</td>\n",
       "      <td>5106.08</td>\n",
       "      <td>emp_09</td>\n",
       "      <td>75</td>\n",
       "      <td>76591.2</td>\n",
       "      <td>5106.08</td>\n",
       "      <td>63826.00</td>\n",
       "      <td>1800</td>\n",
       "      <td>200</td>\n",
       "      <td>2553.04</td>\n",
       "      <td>255304</td>\n",
       "    </tr>\n",
       "    <tr>\n",
       "      <th>9</th>\n",
       "      <td>50</td>\n",
       "      <td>720334.0</td>\n",
       "      <td>36016.70</td>\n",
       "      <td>emp_10</td>\n",
       "      <td>77</td>\n",
       "      <td>540250.5</td>\n",
       "      <td>36016.70</td>\n",
       "      <td>450208.75</td>\n",
       "      <td>1800</td>\n",
       "      <td>200</td>\n",
       "      <td>18008.35</td>\n",
       "      <td>1800835</td>\n",
       "    </tr>\n",
       "    <tr>\n",
       "      <th>10</th>\n",
       "      <td>44</td>\n",
       "      <td>585936.4</td>\n",
       "      <td>29296.82</td>\n",
       "      <td>emp_11</td>\n",
       "      <td>92</td>\n",
       "      <td>439452.3</td>\n",
       "      <td>29296.82</td>\n",
       "      <td>366210.25</td>\n",
       "      <td>1800</td>\n",
       "      <td>200</td>\n",
       "      <td>14648.41</td>\n",
       "      <td>1464841</td>\n",
       "    </tr>\n",
       "    <tr>\n",
       "      <th>11</th>\n",
       "      <td>30</td>\n",
       "      <td>206024.8</td>\n",
       "      <td>10301.24</td>\n",
       "      <td>emp_12</td>\n",
       "      <td>86</td>\n",
       "      <td>154518.6</td>\n",
       "      <td>10301.24</td>\n",
       "      <td>128765.50</td>\n",
       "      <td>1800</td>\n",
       "      <td>200</td>\n",
       "      <td>5150.62</td>\n",
       "      <td>515062</td>\n",
       "    </tr>\n",
       "    <tr>\n",
       "      <th>12</th>\n",
       "      <td>36</td>\n",
       "      <td>311953.6</td>\n",
       "      <td>15597.68</td>\n",
       "      <td>emp_13</td>\n",
       "      <td>79</td>\n",
       "      <td>233965.2</td>\n",
       "      <td>15597.68</td>\n",
       "      <td>194971.00</td>\n",
       "      <td>1800</td>\n",
       "      <td>200</td>\n",
       "      <td>7798.84</td>\n",
       "      <td>779884</td>\n",
       "    </tr>\n",
       "    <tr>\n",
       "      <th>13</th>\n",
       "      <td>19</td>\n",
       "      <td>86883.2</td>\n",
       "      <td>4344.16</td>\n",
       "      <td>emp_14</td>\n",
       "      <td>83</td>\n",
       "      <td>65162.4</td>\n",
       "      <td>4344.16</td>\n",
       "      <td>54302.00</td>\n",
       "      <td>1800</td>\n",
       "      <td>200</td>\n",
       "      <td>2172.08</td>\n",
       "      <td>217208</td>\n",
       "    </tr>\n",
       "    <tr>\n",
       "      <th>14</th>\n",
       "      <td>46</td>\n",
       "      <td>289556.0</td>\n",
       "      <td>14477.80</td>\n",
       "      <td>emp_15</td>\n",
       "      <td>68</td>\n",
       "      <td>217167.0</td>\n",
       "      <td>14477.80</td>\n",
       "      <td>180972.50</td>\n",
       "      <td>1800</td>\n",
       "      <td>200</td>\n",
       "      <td>7238.90</td>\n",
       "      <td>723890</td>\n",
       "    </tr>\n",
       "    <tr>\n",
       "      <th>15</th>\n",
       "      <td>22</td>\n",
       "      <td>706050.0</td>\n",
       "      <td>35302.50</td>\n",
       "      <td>emp_16</td>\n",
       "      <td>83</td>\n",
       "      <td>529537.5</td>\n",
       "      <td>35302.50</td>\n",
       "      <td>441281.25</td>\n",
       "      <td>1800</td>\n",
       "      <td>200</td>\n",
       "      <td>17651.25</td>\n",
       "      <td>1765125</td>\n",
       "    </tr>\n",
       "    <tr>\n",
       "      <th>16</th>\n",
       "      <td>31</td>\n",
       "      <td>561107.2</td>\n",
       "      <td>28055.36</td>\n",
       "      <td>emp_17</td>\n",
       "      <td>82</td>\n",
       "      <td>420830.4</td>\n",
       "      <td>28055.36</td>\n",
       "      <td>350692.00</td>\n",
       "      <td>1800</td>\n",
       "      <td>200</td>\n",
       "      <td>14027.68</td>\n",
       "      <td>1402768</td>\n",
       "    </tr>\n",
       "    <tr>\n",
       "      <th>17</th>\n",
       "      <td>29</td>\n",
       "      <td>363292.8</td>\n",
       "      <td>18164.64</td>\n",
       "      <td>emp_18</td>\n",
       "      <td>79</td>\n",
       "      <td>272469.6</td>\n",
       "      <td>18164.64</td>\n",
       "      <td>227058.00</td>\n",
       "      <td>1800</td>\n",
       "      <td>200</td>\n",
       "      <td>9082.32</td>\n",
       "      <td>908232</td>\n",
       "    </tr>\n",
       "    <tr>\n",
       "      <th>18</th>\n",
       "      <td>50</td>\n",
       "      <td>664102.0</td>\n",
       "      <td>33205.10</td>\n",
       "      <td>emp_19</td>\n",
       "      <td>90</td>\n",
       "      <td>498076.5</td>\n",
       "      <td>33205.10</td>\n",
       "      <td>415063.75</td>\n",
       "      <td>1800</td>\n",
       "      <td>200</td>\n",
       "      <td>16602.55</td>\n",
       "      <td>1660255</td>\n",
       "    </tr>\n",
       "    <tr>\n",
       "      <th>19</th>\n",
       "      <td>26</td>\n",
       "      <td>239359.6</td>\n",
       "      <td>11967.98</td>\n",
       "      <td>emp_20</td>\n",
       "      <td>72</td>\n",
       "      <td>179519.7</td>\n",
       "      <td>11967.98</td>\n",
       "      <td>149599.75</td>\n",
       "      <td>1800</td>\n",
       "      <td>200</td>\n",
       "      <td>5983.99</td>\n",
       "      <td>598399</td>\n",
       "    </tr>\n",
       "    <tr>\n",
       "      <th>20</th>\n",
       "      <td>33</td>\n",
       "      <td>558438.0</td>\n",
       "      <td>27921.90</td>\n",
       "      <td>emp_21</td>\n",
       "      <td>84</td>\n",
       "      <td>418828.5</td>\n",
       "      <td>27921.90</td>\n",
       "      <td>349023.75</td>\n",
       "      <td>1800</td>\n",
       "      <td>200</td>\n",
       "      <td>13960.95</td>\n",
       "      <td>1396095</td>\n",
       "    </tr>\n",
       "  </tbody>\n",
       "</table>\n",
       "</div>"
      ],
      "text/plain": [
       "    age     basic  conveyance_allowance employee_id  grad_pcnt       hra  \\\n",
       "0    30  105801.6               5290.08      emp_01         78   79351.2   \n",
       "1    25  786142.8              39307.14      emp_02         84  589607.1   \n",
       "2    34  770705.2              38535.26      emp_03         77  578028.9   \n",
       "3    40  560638.0              28031.90      emp_04         71  420478.5   \n",
       "4    32  267130.8              13356.54      emp_05         89  200348.1   \n",
       "5    36   83285.2               4164.26      emp_06         65   62463.9   \n",
       "6    29  533603.2              26680.16      emp_07         91  400202.4   \n",
       "7    28  321205.6              16060.28      emp_08         80  240904.2   \n",
       "8    20  102121.6               5106.08      emp_09         75   76591.2   \n",
       "9    50  720334.0              36016.70      emp_10         77  540250.5   \n",
       "10   44  585936.4              29296.82      emp_11         92  439452.3   \n",
       "11   30  206024.8              10301.24      emp_12         86  154518.6   \n",
       "12   36  311953.6              15597.68      emp_13         79  233965.2   \n",
       "13   19   86883.2               4344.16      emp_14         83   65162.4   \n",
       "14   46  289556.0              14477.80      emp_15         68  217167.0   \n",
       "15   22  706050.0              35302.50      emp_16         83  529537.5   \n",
       "16   31  561107.2              28055.36      emp_17         82  420830.4   \n",
       "17   29  363292.8              18164.64      emp_18         79  272469.6   \n",
       "18   50  664102.0              33205.10      emp_19         90  498076.5   \n",
       "19   26  239359.6              11967.98      emp_20         72  179519.7   \n",
       "20   33  558438.0              27921.90      emp_21         84  418828.5   \n",
       "\n",
       "    medical_allowance  other_allowance    pf   pt  statutory_bonus  total_ctc  \n",
       "0             5290.08         66126.00  1800  200          2645.04     264504  \n",
       "1            39307.14        491339.25  1800  200         19653.57    1965357  \n",
       "2            38535.26        481690.75  1800  200         19267.63    1926763  \n",
       "3            28031.90        350398.75  1800  200         14015.95    1401595  \n",
       "4            13356.54        166956.75  1800  200          6678.27     667827  \n",
       "5             4164.26         52053.25  1800  200          2082.13     208213  \n",
       "6            26680.16        333502.00  1800  200         13340.08    1334008  \n",
       "7            16060.28        200753.50  1800  200          8030.14     803014  \n",
       "8             5106.08         63826.00  1800  200          2553.04     255304  \n",
       "9            36016.70        450208.75  1800  200         18008.35    1800835  \n",
       "10           29296.82        366210.25  1800  200         14648.41    1464841  \n",
       "11           10301.24        128765.50  1800  200          5150.62     515062  \n",
       "12           15597.68        194971.00  1800  200          7798.84     779884  \n",
       "13            4344.16         54302.00  1800  200          2172.08     217208  \n",
       "14           14477.80        180972.50  1800  200          7238.90     723890  \n",
       "15           35302.50        441281.25  1800  200         17651.25    1765125  \n",
       "16           28055.36        350692.00  1800  200         14027.68    1402768  \n",
       "17           18164.64        227058.00  1800  200          9082.32     908232  \n",
       "18           33205.10        415063.75  1800  200         16602.55    1660255  \n",
       "19           11967.98        149599.75  1800  200          5983.99     598399  \n",
       "20           27921.90        349023.75  1800  200         13960.95    1396095  "
      ]
     },
     "execution_count": 67,
     "metadata": {},
     "output_type": "execute_result"
    }
   ],
   "source": [
    "ctc"
   ]
  },
  {
   "cell_type": "code",
   "execution_count": 68,
   "metadata": {},
   "outputs": [],
   "source": [
    "#create age group for given range...\n",
    "#Create 4 age groups and find mean CTC & Tax per group. Groups are as follows:\n",
    "#20-25\n",
    "#26-34\n",
    "#35-39\n",
    "#40 and above\n",
    "\n",
    "ctc['age_group'] = ctc['age'].map(lambda x: 'Individual' if x < 60 else 'Senior' if x < 80 else 'Super Senior')\n",
    "ctc['tax_age_group'] = ctc['age'].map(lambda x: '20-25' if x <= 25 else '26-34' if x <= 34 else '35-39' if x <= 39 else '40 and above')"
   ]
  },
  {
   "cell_type": "code",
   "execution_count": 69,
   "metadata": {},
   "outputs": [
    {
     "data": {
      "text/html": [
       "<div>\n",
       "<style scoped>\n",
       "    .dataframe tbody tr th:only-of-type {\n",
       "        vertical-align: middle;\n",
       "    }\n",
       "\n",
       "    .dataframe tbody tr th {\n",
       "        vertical-align: top;\n",
       "    }\n",
       "\n",
       "    .dataframe thead th {\n",
       "        text-align: right;\n",
       "    }\n",
       "</style>\n",
       "<table border=\"1\" class=\"dataframe\">\n",
       "  <thead>\n",
       "    <tr style=\"text-align: right;\">\n",
       "      <th></th>\n",
       "      <th>age</th>\n",
       "      <th>basic</th>\n",
       "      <th>conveyance_allowance</th>\n",
       "      <th>employee_id</th>\n",
       "      <th>grad_pcnt</th>\n",
       "      <th>hra</th>\n",
       "      <th>medical_allowance</th>\n",
       "      <th>other_allowance</th>\n",
       "      <th>pf</th>\n",
       "      <th>pt</th>\n",
       "      <th>statutory_bonus</th>\n",
       "      <th>total_ctc</th>\n",
       "      <th>age_group</th>\n",
       "      <th>tax_age_group</th>\n",
       "    </tr>\n",
       "  </thead>\n",
       "  <tbody>\n",
       "    <tr>\n",
       "      <th>0</th>\n",
       "      <td>30</td>\n",
       "      <td>105801.6</td>\n",
       "      <td>5290.08</td>\n",
       "      <td>emp_01</td>\n",
       "      <td>78</td>\n",
       "      <td>79351.2</td>\n",
       "      <td>5290.08</td>\n",
       "      <td>66126.00</td>\n",
       "      <td>1800</td>\n",
       "      <td>200</td>\n",
       "      <td>2645.04</td>\n",
       "      <td>264504</td>\n",
       "      <td>Individual</td>\n",
       "      <td>26-34</td>\n",
       "    </tr>\n",
       "    <tr>\n",
       "      <th>1</th>\n",
       "      <td>25</td>\n",
       "      <td>786142.8</td>\n",
       "      <td>39307.14</td>\n",
       "      <td>emp_02</td>\n",
       "      <td>84</td>\n",
       "      <td>589607.1</td>\n",
       "      <td>39307.14</td>\n",
       "      <td>491339.25</td>\n",
       "      <td>1800</td>\n",
       "      <td>200</td>\n",
       "      <td>19653.57</td>\n",
       "      <td>1965357</td>\n",
       "      <td>Individual</td>\n",
       "      <td>20-25</td>\n",
       "    </tr>\n",
       "    <tr>\n",
       "      <th>2</th>\n",
       "      <td>34</td>\n",
       "      <td>770705.2</td>\n",
       "      <td>38535.26</td>\n",
       "      <td>emp_03</td>\n",
       "      <td>77</td>\n",
       "      <td>578028.9</td>\n",
       "      <td>38535.26</td>\n",
       "      <td>481690.75</td>\n",
       "      <td>1800</td>\n",
       "      <td>200</td>\n",
       "      <td>19267.63</td>\n",
       "      <td>1926763</td>\n",
       "      <td>Individual</td>\n",
       "      <td>26-34</td>\n",
       "    </tr>\n",
       "    <tr>\n",
       "      <th>3</th>\n",
       "      <td>40</td>\n",
       "      <td>560638.0</td>\n",
       "      <td>28031.90</td>\n",
       "      <td>emp_04</td>\n",
       "      <td>71</td>\n",
       "      <td>420478.5</td>\n",
       "      <td>28031.90</td>\n",
       "      <td>350398.75</td>\n",
       "      <td>1800</td>\n",
       "      <td>200</td>\n",
       "      <td>14015.95</td>\n",
       "      <td>1401595</td>\n",
       "      <td>Individual</td>\n",
       "      <td>40 and above</td>\n",
       "    </tr>\n",
       "    <tr>\n",
       "      <th>4</th>\n",
       "      <td>32</td>\n",
       "      <td>267130.8</td>\n",
       "      <td>13356.54</td>\n",
       "      <td>emp_05</td>\n",
       "      <td>89</td>\n",
       "      <td>200348.1</td>\n",
       "      <td>13356.54</td>\n",
       "      <td>166956.75</td>\n",
       "      <td>1800</td>\n",
       "      <td>200</td>\n",
       "      <td>6678.27</td>\n",
       "      <td>667827</td>\n",
       "      <td>Individual</td>\n",
       "      <td>26-34</td>\n",
       "    </tr>\n",
       "    <tr>\n",
       "      <th>5</th>\n",
       "      <td>36</td>\n",
       "      <td>83285.2</td>\n",
       "      <td>4164.26</td>\n",
       "      <td>emp_06</td>\n",
       "      <td>65</td>\n",
       "      <td>62463.9</td>\n",
       "      <td>4164.26</td>\n",
       "      <td>52053.25</td>\n",
       "      <td>1800</td>\n",
       "      <td>200</td>\n",
       "      <td>2082.13</td>\n",
       "      <td>208213</td>\n",
       "      <td>Individual</td>\n",
       "      <td>35-39</td>\n",
       "    </tr>\n",
       "    <tr>\n",
       "      <th>6</th>\n",
       "      <td>29</td>\n",
       "      <td>533603.2</td>\n",
       "      <td>26680.16</td>\n",
       "      <td>emp_07</td>\n",
       "      <td>91</td>\n",
       "      <td>400202.4</td>\n",
       "      <td>26680.16</td>\n",
       "      <td>333502.00</td>\n",
       "      <td>1800</td>\n",
       "      <td>200</td>\n",
       "      <td>13340.08</td>\n",
       "      <td>1334008</td>\n",
       "      <td>Individual</td>\n",
       "      <td>26-34</td>\n",
       "    </tr>\n",
       "    <tr>\n",
       "      <th>7</th>\n",
       "      <td>28</td>\n",
       "      <td>321205.6</td>\n",
       "      <td>16060.28</td>\n",
       "      <td>emp_08</td>\n",
       "      <td>80</td>\n",
       "      <td>240904.2</td>\n",
       "      <td>16060.28</td>\n",
       "      <td>200753.50</td>\n",
       "      <td>1800</td>\n",
       "      <td>200</td>\n",
       "      <td>8030.14</td>\n",
       "      <td>803014</td>\n",
       "      <td>Individual</td>\n",
       "      <td>26-34</td>\n",
       "    </tr>\n",
       "    <tr>\n",
       "      <th>8</th>\n",
       "      <td>20</td>\n",
       "      <td>102121.6</td>\n",
       "      <td>5106.08</td>\n",
       "      <td>emp_09</td>\n",
       "      <td>75</td>\n",
       "      <td>76591.2</td>\n",
       "      <td>5106.08</td>\n",
       "      <td>63826.00</td>\n",
       "      <td>1800</td>\n",
       "      <td>200</td>\n",
       "      <td>2553.04</td>\n",
       "      <td>255304</td>\n",
       "      <td>Individual</td>\n",
       "      <td>20-25</td>\n",
       "    </tr>\n",
       "    <tr>\n",
       "      <th>9</th>\n",
       "      <td>50</td>\n",
       "      <td>720334.0</td>\n",
       "      <td>36016.70</td>\n",
       "      <td>emp_10</td>\n",
       "      <td>77</td>\n",
       "      <td>540250.5</td>\n",
       "      <td>36016.70</td>\n",
       "      <td>450208.75</td>\n",
       "      <td>1800</td>\n",
       "      <td>200</td>\n",
       "      <td>18008.35</td>\n",
       "      <td>1800835</td>\n",
       "      <td>Individual</td>\n",
       "      <td>40 and above</td>\n",
       "    </tr>\n",
       "  </tbody>\n",
       "</table>\n",
       "</div>"
      ],
      "text/plain": [
       "   age     basic  conveyance_allowance employee_id  grad_pcnt       hra  \\\n",
       "0   30  105801.6               5290.08      emp_01         78   79351.2   \n",
       "1   25  786142.8              39307.14      emp_02         84  589607.1   \n",
       "2   34  770705.2              38535.26      emp_03         77  578028.9   \n",
       "3   40  560638.0              28031.90      emp_04         71  420478.5   \n",
       "4   32  267130.8              13356.54      emp_05         89  200348.1   \n",
       "5   36   83285.2               4164.26      emp_06         65   62463.9   \n",
       "6   29  533603.2              26680.16      emp_07         91  400202.4   \n",
       "7   28  321205.6              16060.28      emp_08         80  240904.2   \n",
       "8   20  102121.6               5106.08      emp_09         75   76591.2   \n",
       "9   50  720334.0              36016.70      emp_10         77  540250.5   \n",
       "\n",
       "   medical_allowance  other_allowance    pf   pt  statutory_bonus  total_ctc  \\\n",
       "0            5290.08         66126.00  1800  200          2645.04     264504   \n",
       "1           39307.14        491339.25  1800  200         19653.57    1965357   \n",
       "2           38535.26        481690.75  1800  200         19267.63    1926763   \n",
       "3           28031.90        350398.75  1800  200         14015.95    1401595   \n",
       "4           13356.54        166956.75  1800  200          6678.27     667827   \n",
       "5            4164.26         52053.25  1800  200          2082.13     208213   \n",
       "6           26680.16        333502.00  1800  200         13340.08    1334008   \n",
       "7           16060.28        200753.50  1800  200          8030.14     803014   \n",
       "8            5106.08         63826.00  1800  200          2553.04     255304   \n",
       "9           36016.70        450208.75  1800  200         18008.35    1800835   \n",
       "\n",
       "    age_group tax_age_group  \n",
       "0  Individual         26-34  \n",
       "1  Individual         20-25  \n",
       "2  Individual         26-34  \n",
       "3  Individual  40 and above  \n",
       "4  Individual         26-34  \n",
       "5  Individual         35-39  \n",
       "6  Individual         26-34  \n",
       "7  Individual         26-34  \n",
       "8  Individual         20-25  \n",
       "9  Individual  40 and above  "
      ]
     },
     "execution_count": 69,
     "metadata": {},
     "output_type": "execute_result"
    }
   ],
   "source": [
    "ctc.head(10)"
   ]
  },
  {
   "cell_type": "code",
   "execution_count": 70,
   "metadata": {},
   "outputs": [],
   "source": [
    "#create a function to calculate the net tax depend on age group..\n",
    "def taxpayablecalculater(x):\n",
    "    if x[0] == \"Individual\":\n",
    "        taxpayable = 1.04*((112500 + 0.3*(x[1] - 1000000)) if x[1] >= 1000001 else (12500 + 0.2*(x[1] - 500000)) if x[1] >= 500001 else 0.05*(x[1] - 250000) if x[1] >= 250001 else 0)\n",
    "    elif x[0] == \"Senior\":\n",
    "        taxpayable = 1.04*((110000 + 0.3*(x[1] - 1000000)) if x[1] >= 1000001 else (10000 + 0.2*(x[1] - 500000)) if x[1] >= 500001 else 0.05*(x[1] - 300000) if x[1] >= 300001 else 0)\n",
    "    else:\n",
    "        taxpayable = 1.04*((100000 + 0.3*(x[1] - 1000000)) if x[1] >= 1000001 else 0.2*(x[1] - 500000) if x[1] >= 500001 else 0)\n",
    "    return taxpayable"
   ]
  },
  {
   "cell_type": "code",
   "execution_count": 71,
   "metadata": {},
   "outputs": [],
   "source": [
    "ctc['nettaxpayable'] = ctc[['age_group', 'total_ctc']].apply(lambda x: taxpayablecalculater(x), axis=1)"
   ]
  },
  {
   "cell_type": "code",
   "execution_count": 72,
   "metadata": {},
   "outputs": [
    {
     "data": {
      "text/html": [
       "<div>\n",
       "<style scoped>\n",
       "    .dataframe tbody tr th:only-of-type {\n",
       "        vertical-align: middle;\n",
       "    }\n",
       "\n",
       "    .dataframe tbody tr th {\n",
       "        vertical-align: top;\n",
       "    }\n",
       "\n",
       "    .dataframe thead th {\n",
       "        text-align: right;\n",
       "    }\n",
       "</style>\n",
       "<table border=\"1\" class=\"dataframe\">\n",
       "  <thead>\n",
       "    <tr style=\"text-align: right;\">\n",
       "      <th></th>\n",
       "      <th>age</th>\n",
       "      <th>basic</th>\n",
       "      <th>conveyance_allowance</th>\n",
       "      <th>employee_id</th>\n",
       "      <th>grad_pcnt</th>\n",
       "      <th>hra</th>\n",
       "      <th>medical_allowance</th>\n",
       "      <th>other_allowance</th>\n",
       "      <th>pf</th>\n",
       "      <th>pt</th>\n",
       "      <th>statutory_bonus</th>\n",
       "      <th>total_ctc</th>\n",
       "      <th>age_group</th>\n",
       "      <th>tax_age_group</th>\n",
       "      <th>nettaxpayable</th>\n",
       "    </tr>\n",
       "  </thead>\n",
       "  <tbody>\n",
       "    <tr>\n",
       "      <th>0</th>\n",
       "      <td>30</td>\n",
       "      <td>105801.6</td>\n",
       "      <td>5290.08</td>\n",
       "      <td>emp_01</td>\n",
       "      <td>78</td>\n",
       "      <td>79351.2</td>\n",
       "      <td>5290.08</td>\n",
       "      <td>66126.00</td>\n",
       "      <td>1800</td>\n",
       "      <td>200</td>\n",
       "      <td>2645.04</td>\n",
       "      <td>264504</td>\n",
       "      <td>Individual</td>\n",
       "      <td>26-34</td>\n",
       "      <td>754.208</td>\n",
       "    </tr>\n",
       "    <tr>\n",
       "      <th>1</th>\n",
       "      <td>25</td>\n",
       "      <td>786142.8</td>\n",
       "      <td>39307.14</td>\n",
       "      <td>emp_02</td>\n",
       "      <td>84</td>\n",
       "      <td>589607.1</td>\n",
       "      <td>39307.14</td>\n",
       "      <td>491339.25</td>\n",
       "      <td>1800</td>\n",
       "      <td>200</td>\n",
       "      <td>19653.57</td>\n",
       "      <td>1965357</td>\n",
       "      <td>Individual</td>\n",
       "      <td>20-25</td>\n",
       "      <td>418191.384</td>\n",
       "    </tr>\n",
       "    <tr>\n",
       "      <th>2</th>\n",
       "      <td>34</td>\n",
       "      <td>770705.2</td>\n",
       "      <td>38535.26</td>\n",
       "      <td>emp_03</td>\n",
       "      <td>77</td>\n",
       "      <td>578028.9</td>\n",
       "      <td>38535.26</td>\n",
       "      <td>481690.75</td>\n",
       "      <td>1800</td>\n",
       "      <td>200</td>\n",
       "      <td>19267.63</td>\n",
       "      <td>1926763</td>\n",
       "      <td>Individual</td>\n",
       "      <td>26-34</td>\n",
       "      <td>406150.056</td>\n",
       "    </tr>\n",
       "    <tr>\n",
       "      <th>3</th>\n",
       "      <td>40</td>\n",
       "      <td>560638.0</td>\n",
       "      <td>28031.90</td>\n",
       "      <td>emp_04</td>\n",
       "      <td>71</td>\n",
       "      <td>420478.5</td>\n",
       "      <td>28031.90</td>\n",
       "      <td>350398.75</td>\n",
       "      <td>1800</td>\n",
       "      <td>200</td>\n",
       "      <td>14015.95</td>\n",
       "      <td>1401595</td>\n",
       "      <td>Individual</td>\n",
       "      <td>40 and above</td>\n",
       "      <td>242297.640</td>\n",
       "    </tr>\n",
       "    <tr>\n",
       "      <th>4</th>\n",
       "      <td>32</td>\n",
       "      <td>267130.8</td>\n",
       "      <td>13356.54</td>\n",
       "      <td>emp_05</td>\n",
       "      <td>89</td>\n",
       "      <td>200348.1</td>\n",
       "      <td>13356.54</td>\n",
       "      <td>166956.75</td>\n",
       "      <td>1800</td>\n",
       "      <td>200</td>\n",
       "      <td>6678.27</td>\n",
       "      <td>667827</td>\n",
       "      <td>Individual</td>\n",
       "      <td>26-34</td>\n",
       "      <td>47908.016</td>\n",
       "    </tr>\n",
       "    <tr>\n",
       "      <th>5</th>\n",
       "      <td>36</td>\n",
       "      <td>83285.2</td>\n",
       "      <td>4164.26</td>\n",
       "      <td>emp_06</td>\n",
       "      <td>65</td>\n",
       "      <td>62463.9</td>\n",
       "      <td>4164.26</td>\n",
       "      <td>52053.25</td>\n",
       "      <td>1800</td>\n",
       "      <td>200</td>\n",
       "      <td>2082.13</td>\n",
       "      <td>208213</td>\n",
       "      <td>Individual</td>\n",
       "      <td>35-39</td>\n",
       "      <td>0.000</td>\n",
       "    </tr>\n",
       "    <tr>\n",
       "      <th>6</th>\n",
       "      <td>29</td>\n",
       "      <td>533603.2</td>\n",
       "      <td>26680.16</td>\n",
       "      <td>emp_07</td>\n",
       "      <td>91</td>\n",
       "      <td>400202.4</td>\n",
       "      <td>26680.16</td>\n",
       "      <td>333502.00</td>\n",
       "      <td>1800</td>\n",
       "      <td>200</td>\n",
       "      <td>13340.08</td>\n",
       "      <td>1334008</td>\n",
       "      <td>Individual</td>\n",
       "      <td>26-34</td>\n",
       "      <td>221210.496</td>\n",
       "    </tr>\n",
       "    <tr>\n",
       "      <th>7</th>\n",
       "      <td>28</td>\n",
       "      <td>321205.6</td>\n",
       "      <td>16060.28</td>\n",
       "      <td>emp_08</td>\n",
       "      <td>80</td>\n",
       "      <td>240904.2</td>\n",
       "      <td>16060.28</td>\n",
       "      <td>200753.50</td>\n",
       "      <td>1800</td>\n",
       "      <td>200</td>\n",
       "      <td>8030.14</td>\n",
       "      <td>803014</td>\n",
       "      <td>Individual</td>\n",
       "      <td>26-34</td>\n",
       "      <td>76026.912</td>\n",
       "    </tr>\n",
       "    <tr>\n",
       "      <th>8</th>\n",
       "      <td>20</td>\n",
       "      <td>102121.6</td>\n",
       "      <td>5106.08</td>\n",
       "      <td>emp_09</td>\n",
       "      <td>75</td>\n",
       "      <td>76591.2</td>\n",
       "      <td>5106.08</td>\n",
       "      <td>63826.00</td>\n",
       "      <td>1800</td>\n",
       "      <td>200</td>\n",
       "      <td>2553.04</td>\n",
       "      <td>255304</td>\n",
       "      <td>Individual</td>\n",
       "      <td>20-25</td>\n",
       "      <td>275.808</td>\n",
       "    </tr>\n",
       "    <tr>\n",
       "      <th>9</th>\n",
       "      <td>50</td>\n",
       "      <td>720334.0</td>\n",
       "      <td>36016.70</td>\n",
       "      <td>emp_10</td>\n",
       "      <td>77</td>\n",
       "      <td>540250.5</td>\n",
       "      <td>36016.70</td>\n",
       "      <td>450208.75</td>\n",
       "      <td>1800</td>\n",
       "      <td>200</td>\n",
       "      <td>18008.35</td>\n",
       "      <td>1800835</td>\n",
       "      <td>Individual</td>\n",
       "      <td>40 and above</td>\n",
       "      <td>366860.520</td>\n",
       "    </tr>\n",
       "  </tbody>\n",
       "</table>\n",
       "</div>"
      ],
      "text/plain": [
       "   age     basic  conveyance_allowance employee_id  grad_pcnt       hra  \\\n",
       "0   30  105801.6               5290.08      emp_01         78   79351.2   \n",
       "1   25  786142.8              39307.14      emp_02         84  589607.1   \n",
       "2   34  770705.2              38535.26      emp_03         77  578028.9   \n",
       "3   40  560638.0              28031.90      emp_04         71  420478.5   \n",
       "4   32  267130.8              13356.54      emp_05         89  200348.1   \n",
       "5   36   83285.2               4164.26      emp_06         65   62463.9   \n",
       "6   29  533603.2              26680.16      emp_07         91  400202.4   \n",
       "7   28  321205.6              16060.28      emp_08         80  240904.2   \n",
       "8   20  102121.6               5106.08      emp_09         75   76591.2   \n",
       "9   50  720334.0              36016.70      emp_10         77  540250.5   \n",
       "\n",
       "   medical_allowance  other_allowance    pf   pt  statutory_bonus  total_ctc  \\\n",
       "0            5290.08         66126.00  1800  200          2645.04     264504   \n",
       "1           39307.14        491339.25  1800  200         19653.57    1965357   \n",
       "2           38535.26        481690.75  1800  200         19267.63    1926763   \n",
       "3           28031.90        350398.75  1800  200         14015.95    1401595   \n",
       "4           13356.54        166956.75  1800  200          6678.27     667827   \n",
       "5            4164.26         52053.25  1800  200          2082.13     208213   \n",
       "6           26680.16        333502.00  1800  200         13340.08    1334008   \n",
       "7           16060.28        200753.50  1800  200          8030.14     803014   \n",
       "8            5106.08         63826.00  1800  200          2553.04     255304   \n",
       "9           36016.70        450208.75  1800  200         18008.35    1800835   \n",
       "\n",
       "    age_group tax_age_group  nettaxpayable  \n",
       "0  Individual         26-34        754.208  \n",
       "1  Individual         20-25     418191.384  \n",
       "2  Individual         26-34     406150.056  \n",
       "3  Individual  40 and above     242297.640  \n",
       "4  Individual         26-34      47908.016  \n",
       "5  Individual         35-39          0.000  \n",
       "6  Individual         26-34     221210.496  \n",
       "7  Individual         26-34      76026.912  \n",
       "8  Individual         20-25        275.808  \n",
       "9  Individual  40 and above     366860.520  "
      ]
     },
     "execution_count": 72,
     "metadata": {},
     "output_type": "execute_result"
    }
   ],
   "source": [
    "ctc.head(10)"
   ]
  },
  {
   "cell_type": "code",
   "execution_count": 73,
   "metadata": {},
   "outputs": [
    {
     "name": "stdout",
     "output_type": "stream",
     "text": [
      "Pearson correlation between graduation percentage and current CTC is : 0.35\n"
     ]
    }
   ],
   "source": [
    "#Is there a correlation between graduation percentage and current CTC? \n",
    "#(Get pearson correlation score - Use GOOGLE / STACK OVERFLOW)\n",
    "\n",
    "pearson_correlation_GradperAndCTC = ctc['total_ctc'].corr(ctc['grad_pcnt']).round(2)\n",
    "print('Pearson correlation between graduation percentage and current CTC is :', pearson_correlation_GradperAndCTC)"
   ]
  },
  {
   "cell_type": "code",
   "execution_count": 74,
   "metadata": {},
   "outputs": [
    {
     "name": "stdout",
     "output_type": "stream",
     "text": [
      "Pearson correlation between age and current CTC is : 0.35\n"
     ]
    }
   ],
   "source": [
    "#Is there a correlation between age and current CTC? (Get pearson correlation score - Use GOOGLE / STACK OVERFLOW)\n",
    "pearson_correlation_AgeAndCTC = ctc['total_ctc'].corr(ctc['age']).round(2)\n",
    "print('Pearson correlation between age and current CTC is :', pearson_correlation_AgeAndCTC)"
   ]
  },
  {
   "cell_type": "code",
   "execution_count": 75,
   "metadata": {},
   "outputs": [
    {
     "data": {
      "text/html": [
       "<div>\n",
       "<style scoped>\n",
       "    .dataframe tbody tr th:only-of-type {\n",
       "        vertical-align: middle;\n",
       "    }\n",
       "\n",
       "    .dataframe tbody tr th {\n",
       "        vertical-align: top;\n",
       "    }\n",
       "\n",
       "    .dataframe thead th {\n",
       "        text-align: right;\n",
       "    }\n",
       "</style>\n",
       "<table border=\"1\" class=\"dataframe\">\n",
       "  <thead>\n",
       "    <tr style=\"text-align: right;\">\n",
       "      <th></th>\n",
       "      <th>nettaxpayable</th>\n",
       "      <th>total_ctc</th>\n",
       "    </tr>\n",
       "    <tr>\n",
       "      <th>tax_age_group</th>\n",
       "      <th></th>\n",
       "      <th></th>\n",
       "    </tr>\n",
       "  </thead>\n",
       "  <tbody>\n",
       "    <tr>\n",
       "      <th>20-25</th>\n",
       "      <td>193546.5480</td>\n",
       "      <td>1050748.5</td>\n",
       "    </tr>\n",
       "    <tr>\n",
       "      <th>26-34</th>\n",
       "      <td>138280.7088</td>\n",
       "      <td>981667.2</td>\n",
       "    </tr>\n",
       "    <tr>\n",
       "      <th>35-39</th>\n",
       "      <td>35607.9360</td>\n",
       "      <td>494048.5</td>\n",
       "    </tr>\n",
       "    <tr>\n",
       "      <th>40 and above</th>\n",
       "      <td>250751.4464</td>\n",
       "      <td>1410283.2</td>\n",
       "    </tr>\n",
       "  </tbody>\n",
       "</table>\n",
       "</div>"
      ],
      "text/plain": [
       "               nettaxpayable  total_ctc\n",
       "tax_age_group                          \n",
       "20-25            193546.5480  1050748.5\n",
       "26-34            138280.7088   981667.2\n",
       "35-39             35607.9360   494048.5\n",
       "40 and above     250751.4464  1410283.2"
      ]
     },
     "execution_count": 75,
     "metadata": {},
     "output_type": "execute_result"
    }
   ],
   "source": [
    "#find mean CTC & Tax for each percentage group within each age group\n",
    "\n",
    "ctc.groupby('tax_age_group')['nettaxpayable', 'total_ctc'].mean()\n"
   ]
  },
  {
   "cell_type": "code",
   "execution_count": 76,
   "metadata": {},
   "outputs": [
    {
     "data": {
      "text/html": [
       "<div>\n",
       "<style scoped>\n",
       "    .dataframe tbody tr th:only-of-type {\n",
       "        vertical-align: middle;\n",
       "    }\n",
       "\n",
       "    .dataframe tbody tr th {\n",
       "        vertical-align: top;\n",
       "    }\n",
       "\n",
       "    .dataframe thead th {\n",
       "        text-align: right;\n",
       "    }\n",
       "</style>\n",
       "<table border=\"1\" class=\"dataframe\">\n",
       "  <thead>\n",
       "    <tr style=\"text-align: right;\">\n",
       "      <th></th>\n",
       "      <th>nettaxpayable</th>\n",
       "      <th>total_ctc</th>\n",
       "    </tr>\n",
       "    <tr>\n",
       "      <th>graduation_per_group</th>\n",
       "      <th></th>\n",
       "      <th></th>\n",
       "    </tr>\n",
       "  </thead>\n",
       "  <tbody>\n",
       "    <tr>\n",
       "      <th>First Class</th>\n",
       "      <td>152366.669</td>\n",
       "      <td>991939.5</td>\n",
       "    </tr>\n",
       "    <tr>\n",
       "      <th>First Class with Distinction</th>\n",
       "      <td>174652.933</td>\n",
       "      <td>1091557.0</td>\n",
       "    </tr>\n",
       "    <tr>\n",
       "      <th>Merit</th>\n",
       "      <td>268746.816</td>\n",
       "      <td>1486368.0</td>\n",
       "    </tr>\n",
       "    <tr>\n",
       "      <th>Second Class</th>\n",
       "      <td>29784.560</td>\n",
       "      <td>466051.5</td>\n",
       "    </tr>\n",
       "  </tbody>\n",
       "</table>\n",
       "</div>"
      ],
      "text/plain": [
       "                              nettaxpayable  total_ctc\n",
       "graduation_per_group                                  \n",
       "First Class                      152366.669   991939.5\n",
       "First Class with Distinction     174652.933  1091557.0\n",
       "Merit                            268746.816  1486368.0\n",
       "Second Class                      29784.560   466051.5"
      ]
     },
     "execution_count": 76,
     "metadata": {},
     "output_type": "execute_result"
    }
   ],
   "source": [
    "#Create 4 groups of graduation percentage and find mean CTC & Tax for each percentage group within each age group\n",
    "\n",
    "ctc['graduation_per_group'] = ctc['grad_pcnt'].map(lambda x: 'Second Class' if x < 70 else 'First Class' if x < 80 else 'First Class with Distinction' if x < 90 else 'Merit')\n",
    "\n",
    "ctc.groupby('graduation_per_group')['nettaxpayable', 'total_ctc'].mean()"
   ]
  },
  {
   "cell_type": "code",
   "execution_count": 78,
   "metadata": {},
   "outputs": [
    {
     "data": {
      "image/png": "[encoded data removed]",
      "text/plain": [
       "<Figure size 720x504 with 1 Axes>"
      ]
     },
     "metadata": {},
     "output_type": "display_data"
    }
   ],
   "source": [
    "#Plot pie chart of age groups\n",
    "\n",
    "\n",
    "import matplotlib.pyplot as plt\n",
    "import seaborn as sns\n",
    "\n",
    "tax_ageGroup = ctc.pivot_table(index='tax_age_group', values='employee_id', aggfunc='count')\n",
    "\n",
    "\n",
    "fig=plt.figure(figsize=(10,7))\n",
    "ax = plt.pie(tax_ageGroup, labels=tax_ageGroup.index, autopct='%.2f')\n",
    "plt.title('pie chart of age groups', color = 'blue')\n",
    "plt.legend(tax_ageGroup.index, loc='upper right')\n",
    "plt.show()\n"
   ]
  },
  {
   "cell_type": "code",
   "execution_count": 79,
   "metadata": {},
   "outputs": [
    {
     "data": {
      "image/png": "[encoded data removed]",
      "text/plain": [
       "<Figure size 720x504 with 1 Axes>"
      ]
     },
     "metadata": {
      "needs_background": "light"
     },
     "output_type": "display_data"
    }
   ],
   "source": [
    "#Plot bar chart of graduation percentage groups\n",
    "\n",
    "bar_graduation_per_group = ctc.pivot_table(index='graduation_per_group', values='employee_id', aggfunc='count')\n",
    "\n",
    "bar_graduation_per_group\n",
    "\n",
    "fig=plt.figure(figsize=(10,7))\n",
    "ax=plt.bar(bar_graduation_per_group.index, bar_graduation_per_group.employee_id)\n",
    "ax[0].set_color('green')\n",
    "ax[1].set_color('black')\n",
    "ax[2].set_color('red')\n",
    "\n",
    "plt.xlabel('Graduate Percentage')\n",
    "plt.ylabel('Count')\n",
    "plt.title('Bar Chart for Graduate Percentage group', color = 'blue')\n",
    "plt.show()\n",
    "\n"
   ]
  },
  {
   "cell_type": "code",
   "execution_count": 80,
   "metadata": {},
   "outputs": [
    {
     "data": {
      "image/png": "[encoded data removed]",
      "text/plain": [
       "<Figure size 432x288 with 1 Axes>"
      ]
     },
     "metadata": {
      "needs_background": "light"
     },
     "output_type": "display_data"
    }
   ],
   "source": [
    "#Plot a histogram / distplot of Tax\n",
    "\n",
    "plt.hist(ctc.nettaxpayable, density=1, bins=10,)\n",
    "plt.xlabel('Net tax payable');"
   ]
  },
  {
   "cell_type": "code",
   "execution_count": 81,
   "metadata": {},
   "outputs": [
    {
     "name": "stderr",
     "output_type": "stream",
     "text": [
      "C:\\Users\\DELL\\Anaconda3\\lib\\site-packages\\scipy\\stats\\stats.py:1713: FutureWarning: Using a non-tuple sequence for multidimensional indexing is deprecated; use `arr[tuple(seq)]` instead of `arr[seq]`. In the future this will be interpreted as an array index, `arr[np.array(seq)]`, which will result either in an error or a different result.\n",
      "  return np.add.reduce(sorted[indexer] * weights, axis=axis) / sumval\n"
     ]
    },
    {
     "data": {
      "image/png": "[encoded data removed]",
      "text/plain": [
       "<Figure size 432x288 with 1 Axes>"
      ]
     },
     "metadata": {
      "needs_background": "light"
     },
     "output_type": "display_data"
    }
   ],
   "source": [
    "sns.distplot(ctc.nettaxpayable, rug=True, hist=True);"
   ]
  },
  {
   "cell_type": "code",
   "execution_count": 82,
   "metadata": {},
   "outputs": [
    {
     "data": {
      "text/plain": [
       "Text(0, 0.5, 'ctc')"
      ]
     },
     "execution_count": 82,
     "metadata": {},
     "output_type": "execute_result"
    },
    {
     "data": {
      "image/png": "[encoded data removed]",
      "text/plain": [
       "<Figure size 432x288 with 1 Axes>"
      ]
     },
     "metadata": {
      "needs_background": "light"
     },
     "output_type": "display_data"
    }
   ],
   "source": [
    "#Generate a scatterplot of age vs income\n",
    "plt.scatter(ctc.age, ctc.total_ctc, edgecolors='Red')\n",
    "plt.xlabel('age')\n",
    "plt.ylabel('ctc')\n",
    "\n"
   ]
  },
  {
   "cell_type": "code",
   "execution_count": 83,
   "metadata": {},
   "outputs": [],
   "source": [
    "#Export the final dataframe to a csv\n",
    "\n",
    "ctc.to_csv('ctc.csv')   "
   ]
  },
  {
   "cell_type": "code",
   "execution_count": null,
   "metadata": {},
   "outputs": [],
   "source": []
  },
  {
   "cell_type": "markdown",
   "metadata": {},
   "source": [
    "# <font color='red'>Once Again Bank Account Exercise </font>"
   ]
  },
  {
   "cell_type": "code",
   "execution_count": null,
   "metadata": {},
   "outputs": [],
   "source": [
    "#  # <font color='red'>Once Again Bank Account Exercise</font>    to change the colour just type like this(and select markdown)"
   ]
  },
  {
   "cell_type": "markdown",
   "metadata": {},
   "source": [
    "# 1. Create a call called BankAccount\n",
    "# 2. Class should be initiated with following names:\n",
    "\n",
    "#    2.1. Full Name\n",
    "\n",
    "#    2.2. PAN\n",
    "\n",
    "#    2.3. Balance - 1000 (Default value. Ensure this value is never negative)\n",
    "\n",
    "\n",
    "# 3. Create a method to check current balance\n",
    "# 4. Create a method to add money (Balance must be updated. Create log for transactions.)\n",
    "# 5. Create a method to withdraw money (Balance must be updated. Cant withdraw more than balance. Create log for transactions.)\n",
    "# 6. Create a method to get last 5 transactions"
   ]
  },
  {
   "cell_type": "code",
   "execution_count": 84,
   "metadata": {},
   "outputs": [],
   "source": [
    "class BankAccount:\n",
    "    'Class schematizing a Bank Account and related operations. \\\n",
    "    Pass on the full name, PAN number, and balance. The minimum balance has to be 1000.'\n",
    "    'Syntax: account_variable(fullname as a string, pan_number as a string, opening balance as integer)'\n",
    "    info = \"This is a bank account class. Procedures for adding\"\n",
    "    \n",
    "    __dt = __import__('datetime')\n",
    "    __rd =  __import__('random')\n",
    "    __st =  __import__('string')\n",
    "       \n",
    "     \n",
    "    def __init__(self, fullname, pan, obalance, transactions=None):\n",
    "        'Enter your fullname as a string, pan number as a string, and opening amount as integer'\n",
    "        #The initial constructor\n",
    "        \n",
    "        if obalance <1000:\n",
    "            print (\"Cannot deposit less than 1000\")\n",
    "            \n",
    "        else:\n",
    "            self.balance = 0 #the holder for \n",
    "            self.transactions = {}\n",
    "            self.name = fullname\n",
    "            self.pan =  pan\n",
    "            self.balance = obalance\n",
    "            txn_id = self.__transaction_id_gen('dep')\n",
    "            txn_detail = str(\"deposit of \"+ str(obalance) + \" on \" + str(self.__dt.datetime.today()) + \\\n",
    "                                 \" balance: \" + str(self.balance))\n",
    "            self.transactions[txn_id] = txn_detail\n",
    "    \n",
    "    def __transaction_id_gen(self, ttype):\n",
    "        #encapsulated transaction id generator\n",
    "        characters = self.__st.ascii_letters +  self.__st.digits\n",
    "        \n",
    "        return ttype.join(self.__rd.choice(characters) for x in range(self.__rd.randint(8, 16)))\n",
    "           \n",
    "    def check_balance(self):\n",
    "        'No parameters needed. Returns balance from account.'\n",
    "        #Exposed function to return current balance\n",
    "        return self.balance\n",
    "    \n",
    "    def deposit(self, amount):\n",
    "        'Procedure to deposit a valid amount. Pass deposit amount as the parameter.'\n",
    "        #Exposed function allowing a deposit of a valid amount\n",
    "        if amount > 0:\n",
    "            self.balance = self.balance + amount\n",
    "            txn_id = self.__transaction_id_gen('dep')\n",
    "            txn_detail = str(\"deposit of \"+ str(amount) + \" on \" + str(self.__dt.datetime.today()) + \" balance: \" + str(self.balance))\n",
    "            self.transactions[txn_id] = txn_detail\n",
    "            return [(self.balance, txn_id)]\n",
    "        \n",
    "        else:\n",
    "            return \"Invalid amount\"\n",
    "    \n",
    "    def withdraw(self, amount):\n",
    "        'Procedure to withdraw valid amount from account. Pass amount as an parameter.'\n",
    "        #Exposed function allowing a withdrawal of a valid amount within the limits of maintaining a minimum of 1000 as balance\n",
    "        if amount < 0:\n",
    "            return \"Invalid amount specified\"\n",
    "        elif amount > self.balance:\n",
    "            return \"Insufficient balance\"\n",
    "        elif (self.balance - amount) < 1000:\n",
    "            return \"Minimum balance of 1000 has to be maintained. Insufficient balance.\"\n",
    "        else:\n",
    "            self.balance = self.balance - amount\n",
    "            txn_id = self.__transaction_id_gen('draw')\n",
    "            txn_detail = str(\"withdrawal of \"+ str(amount) + \" on \" + \\\n",
    "                             str(self.__dt.datetime.today()) + \" balance: \" + str(self.balance))\n",
    "            self.transactions[txn_id] = txn_detail\n",
    "            return [(self.balance, txn_id)]\n",
    "    \n",
    "    def last_n_txns(self, n):\n",
    "        'Procedure to return a list of last n transactions. Pass on the required number of transactions as an parameter.'\n",
    "        #Exposed function that returns the recent n transactions\n",
    "        n = -1 * n\n",
    "        full_list = list(self.transactions)\n",
    "        last5t = []\n",
    "        for i in full_list:\n",
    "            last5t.append(self.transactions[i])\n",
    "            last5t.reverse()\n",
    "        return last5t\n",
    "        \n",
    "    \n",
    "    "
   ]
  },
  {
   "cell_type": "code",
   "execution_count": 86,
   "metadata": {},
   "outputs": [],
   "source": [
    "sajib = BankAccount('Sajib halder', 'PANDGKHKHD', 5000)"
   ]
  },
  {
   "cell_type": "code",
   "execution_count": 87,
   "metadata": {},
   "outputs": [
    {
     "data": {
      "text/plain": [
       "5000"
      ]
     },
     "execution_count": 87,
     "metadata": {},
     "output_type": "execute_result"
    }
   ],
   "source": [
    "sajib.check_balance()"
   ]
  },
  {
   "cell_type": "code",
   "execution_count": 88,
   "metadata": {},
   "outputs": [
    {
     "data": {
      "text/plain": [
       "[(9555, 'hdepgdepkdepXdep8depVdep1depKdepQdepFdeprdepVdeptdepLdep6')]"
      ]
     },
     "execution_count": 88,
     "metadata": {},
     "output_type": "execute_result"
    }
   ],
   "source": [
    "sajib.deposit(4555)"
   ]
  },
  {
   "cell_type": "code",
   "execution_count": 89,
   "metadata": {},
   "outputs": [
    {
     "data": {
      "text/plain": [
       "[(7555,\n",
       "  'Zdraw5drawmdrawIdraw4drawbdrawfdraw6drawWdrawydraw8drawYdrawudrawadrawN')]"
      ]
     },
     "execution_count": 89,
     "metadata": {},
     "output_type": "execute_result"
    }
   ],
   "source": [
    "sajib.withdraw(2000)"
   ]
  },
  {
   "cell_type": "code",
   "execution_count": 90,
   "metadata": {},
   "outputs": [
    {
     "data": {
      "text/plain": [
       "['withdrawal of 2000 on 2019-07-25 10:18:26.673713 balance: 7555',\n",
       " 'deposit of 5000 on 2019-07-25 10:17:19.650095 balance: 5000',\n",
       " 'deposit of 4555 on 2019-07-25 10:18:00.934361 balance: 9555']"
      ]
     },
     "execution_count": 90,
     "metadata": {},
     "output_type": "execute_result"
    }
   ],
   "source": [
    "sajib.last_n_txns(4)"
   ]
  },
  {
   "cell_type": "markdown",
   "metadata": {},
   "source": [
    "# Create a program to manage Savings and Current account for user.\n",
    "\n",
    "    Define class Account which will have class variable balance. Define classes Saving and Current which extended by class Account.\n",
    "    Account number is required to open any account.\n",
    "    As a user I should able to withdraw / deposit amount.\n",
    "    Minimum balance for Current account is 15000 and Savings account is 1000.\n",
    "    While withdrawing from currunt account do not forget to apply 0.1 charges."
   ]
  },
  {
   "cell_type": "code",
   "execution_count": 1,
   "metadata": {},
   "outputs": [],
   "source": [
    "class Account(object):\n",
    "    balance = 0\n",
    "    def __init__(self, account_number):\n",
    "        self.account_number = account_number\n",
    "        self.balance = 0\n",
    "    def deposit(self, amount):\n",
    "        self.balance += amount\n",
    "    def withdraw(self, amount):\n",
    "        if self.balance < 1000:\n",
    "            print (\"Minimum balance of 1000 required\")\n",
    "        else:\n",
    "            self.balance = self.balance - amount\n",
    "\n",
    "class Savings(Account):\n",
    "    def __init__(self, account_number):\n",
    "        self.account_number = account_number\n",
    "        self.balance = 0\n",
    "\n",
    "class Current(Account):\n",
    "    def __init__(self, account_number):\n",
    "        self.account_number = account_number\n",
    "        self.balance = 0\n",
    "    def withdraw(self, amount):\n",
    "        if self.balance >= 15000:\n",
    "            self.balance = self.balance - (amount+(0.1*amount))\n",
    "        else:\n",
    "            print(\"Minimum balance of 15000 required for withdrawal from current account\")"
   ]
  }
 ],
 "metadata": {
  "kernelspec": {
   "display_name": "Python 3",
   "language": "python",
   "name": "python3"
  },
  "language_info": {
   "codemirror_mode": {
    "name": "ipython",
    "version": 3
   },
   "file_extension": ".py",
   "mimetype": "text/x-python",
   "name": "python",
   "nbconvert_exporter": "python",
   "pygments_lexer": "ipython3",
   "version": "3.7.1"
  }
 },
 "nbformat": 4,
 "nbformat_minor": 2
}
